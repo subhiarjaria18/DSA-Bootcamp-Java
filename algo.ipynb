{
  "cells": [
    {
      "cell_type": "markdown",
      "source": [
        "###Important Data Structure and Algorithm Code\n"
      ],
      "metadata": {
        "id": "mXSBvDlLCuyT"
      }
    },
    {
      "cell_type": "code",
      "source": [
        "edges=[(0,2),(0,3),(0,4),(1,2),(1,7),(2,5),(3,5),(3,7),(4,7),(5,6),(6,7)]\n",
        "size = 8\n",
        "import numpy as np\n",
        "AMat = np.zeros(shape=(size,size))\n",
        "for (i,j) in edges:\n",
        "    AMat[i,j] = 1\n",
        "print(AMat)"
      ],
      "metadata": {
        "colab": {
          "base_uri": "https://localhost:8080/"
        },
        "id": "AejkW1KaDX3O",
        "outputId": "512ebe66-9120-4368-9557-112e5f20f2f2"
      },
      "execution_count": null,
      "outputs": [
        {
          "output_type": "stream",
          "name": "stdout",
          "text": [
            "[[0. 0. 1. 1. 1. 0. 0. 0.]\n",
            " [0. 0. 1. 0. 0. 0. 0. 1.]\n",
            " [0. 0. 0. 0. 0. 1. 0. 0.]\n",
            " [0. 0. 0. 0. 0. 1. 0. 1.]\n",
            " [0. 0. 0. 0. 0. 0. 0. 1.]\n",
            " [0. 0. 0. 0. 0. 0. 1. 0.]\n",
            " [0. 0. 0. 0. 0. 0. 0. 1.]\n",
            " [0. 0. 0. 0. 0. 0. 0. 0.]]\n"
          ]
        }
      ]
    },
    {
      "cell_type": "markdown",
      "metadata": {
        "id": "bF3rDaIQiQaa"
      },
      "source": [
        "##Code to sort a list using O($n^2$) (Selection Sort)\n",
        "we will be using Selection sort Algorithm to sort our Array\n"
      ]
    },
    {
      "cell_type": "code",
      "execution_count": null,
      "metadata": {
        "id": "SH1psJF2iQCp"
      },
      "outputs": [],
      "source": [
        "l = [21,12,13,42,11,9,15,81,25,50]\n"
      ]
    },
    {
      "cell_type": "code",
      "execution_count": null,
      "metadata": {
        "colab": {
          "base_uri": "https://localhost:8080/"
        },
        "id": "HhiZqPLYi1rp",
        "outputId": "371c9e1a-0911-4c83-d287-6abf5edb663a"
      },
      "outputs": [
        {
          "output_type": "stream",
          "name": "stdout",
          "text": [
            "[9, 11, 12, 13, 15, 21, 25, 42, 50, 81]\n"
          ]
        }
      ],
      "source": [
        "def selection_sort(l):\n",
        "  n = len(l)\n",
        "  for i in range(n):\n",
        "    cpoint = i\n",
        "    for j in range(i+1,n):\n",
        "      if l[cpoint]>l[j]:\n",
        "        cpoint = j\n",
        "    (l[i],l[cpoint])  = (l[cpoint],l[i])\n",
        "  return l\n",
        "print(selection_sort(l))\n"
      ]
    },
    {
      "cell_type": "markdown",
      "source": [
        "<h1>binary search"
      ],
      "metadata": {
        "id": "UHsWmD_fqeTP"
      }
    },
    {
      "cell_type": "code",
      "execution_count": null,
      "metadata": {
        "colab": {
          "base_uri": "https://localhost:8080/"
        },
        "id": "tjixWqWHB95M",
        "outputId": "67f0d2a1-ca74-4c13-e8d2-8c2f277eb485"
      },
      "outputs": [
        {
          "name": "stdout",
          "output_type": "stream",
          "text": [
            "True\n"
          ]
        }
      ],
      "source": [
        "def binary_search(l,a):\n",
        "  b = selection_sort(l)\n",
        "  n = len(b)\n",
        "  m = n//2\n",
        "  if len(b)<=1:\n",
        "    if b[0]==a:\n",
        "      return True\n",
        "    else:\n",
        "      return False\n",
        "  else:\n",
        "    if b[m]==a:\n",
        "      return True\n",
        "    else:\n",
        "      if a<b[m]:\n",
        "        return binary_search(b[:m],a)\n",
        "      else:\n",
        "         return binary_search(b[m:],a)\n",
        "\n",
        "print(binary_search(l,25))"
      ]
    },
    {
      "cell_type": "code",
      "execution_count": null,
      "metadata": {
        "id": "2JpOG9bil7YS"
      },
      "outputs": [],
      "source": [
        "def binary_search(l,a):\n",
        "  b = selection_sort(l)\n",
        "  start = 0\n",
        "  end = len(l)-1\n",
        "  num = 0\n",
        "  found = 0\n",
        "  while((l[end]-l[start])>1):\n",
        "    mid = len(b)//2\n",
        "    if l[mid]==a:\n",
        "      found = 1\n",
        "    if l[mid]>a:\n",
        "      end = mid-1\n",
        "    if l[mid]<a:\n",
        "      start = mid+1\n",
        "    if  l[start]==a or l[end]==a:\n",
        "      found = 1\n",
        "    else:\n",
        "      found = 0\n",
        "  return found\n",
        "\n",
        "\n",
        "\n",
        "print(binary_search(l,25))"
      ]
    },
    {
      "cell_type": "markdown",
      "metadata": {
        "id": "3UoQLP8U547V"
      },
      "source": [
        "##Binary Search (via iteration method) O($n^2$)\n"
      ]
    },
    {
      "cell_type": "code",
      "execution_count": null,
      "metadata": {
        "colab": {
          "base_uri": "https://localhost:8080/"
        },
        "id": "6G07UT8L7ITW",
        "outputId": "64292ff8-8c40-40e0-e6c9-e8a13b60d4e9"
      },
      "outputs": [
        {
          "output_type": "stream",
          "name": "stdout",
          "text": [
            "False\n"
          ]
        }
      ],
      "source": [
        "def binary_search(L,a):\n",
        "  L.sort()\n",
        "  n = len(L)\n",
        "  start = 0\n",
        "  end = len(L)-1\n",
        "  while (end-start)>1:\n",
        "    mid = (end - start)//2\n",
        "    if L[mid]==a:\n",
        "      return True\n",
        "    if L[mid]>a:\n",
        "      end = mid-1\n",
        "    if L[mid]<a:\n",
        "      start = mid+1\n",
        "  if L[start]==a or L[end]==a:\n",
        "    return True\n",
        "  else:\n",
        "    return False\n",
        "print(binary_search(l,5))"
      ]
    },
    {
      "cell_type": "markdown",
      "source": [
        "##Binary Search (via recurssion method) O($n^2$)\n",
        "method 2"
      ],
      "metadata": {
        "id": "YyQRnJaZzhBf"
      }
    },
    {
      "cell_type": "code",
      "source": [
        "def binary_search(l,x):\n",
        "  l.sort()\n",
        "  mid  = len(l)//2\n",
        "  begin =0\n",
        "  end = -1\n",
        "  if len(l)<=1:\n",
        "    if l[0]==x:\n",
        "      return True\n",
        "    else:\n",
        "      return False\n",
        "  else:\n",
        "    if l[mid]==x:\n",
        "      return True\n",
        "    else:\n",
        "      if x<l[mid]:\n",
        "        end = mid\n",
        "        return binary_search(l[begin:end],x)\n",
        "      else:\n",
        "        begin = mid+1\n",
        "        return binary_search(l[begin:],x)"
      ],
      "metadata": {
        "id": "1vwlZuRTzn21"
      },
      "execution_count": null,
      "outputs": []
    },
    {
      "cell_type": "markdown",
      "source": [
        "###Binary Search Using Recurssion  O($n^2$)\n"
      ],
      "metadata": {
        "id": "qL27-UIsCDqR"
      }
    },
    {
      "cell_type": "code",
      "source": [
        "def binary2(l,a):\n",
        "  l.sort()\n",
        "  end = len(l)-1\n",
        "  start = 0\n",
        "  mid = end+start//2\n",
        "  if end>=start:\n",
        "    if l[mid]==a:\n",
        "      return True\n",
        "    if l[mid]>a:\n",
        "      end = mid\n",
        "      return binary2(l[:end],a)\n",
        "    if l[mid]<a:\n",
        "      start = mid+1\n",
        "      return binary2(l[start:],a)\n",
        "  else:\n",
        "    return False\n",
        "print(binary2(l,81))"
      ],
      "metadata": {
        "colab": {
          "base_uri": "https://localhost:8080/"
        },
        "id": "17tkF-BjCLN7",
        "outputId": "87aae564-28a1-4590-857d-c13b3874cc7e"
      },
      "execution_count": null,
      "outputs": [
        {
          "output_type": "stream",
          "name": "stdout",
          "text": [
            "True\n"
          ]
        }
      ]
    },
    {
      "cell_type": "markdown",
      "source": [
        "###Selection sort  O($n^2$)"
      ],
      "metadata": {
        "id": "XTFaR1ItQCL-"
      }
    },
    {
      "cell_type": "code",
      "source": [
        "def selection_sort(l):\n",
        "  n = len(l)\n",
        "  if len(l)<=1:\n",
        "    return l\n",
        "  for i in range(n):\n",
        "    cpoint = i\n",
        "    for j in range(i+1,n):\n",
        "      if l[cpoint]> l[j]:\n",
        "        cpoint = j\n",
        "    (l[i],l[cpoint])=(l[cpoint],l[i])\n",
        "  return l\n",
        "\n",
        "print(selection_sort(l))\n"
      ],
      "metadata": {
        "id": "LxfymlIJQF7P",
        "colab": {
          "base_uri": "https://localhost:8080/"
        },
        "outputId": "14a441db-b782-4171-8a54-5d92b82b151f"
      },
      "execution_count": null,
      "outputs": [
        {
          "output_type": "stream",
          "name": "stdout",
          "text": [
            "[9, 11, 12, 13, 15, 21, 25, 42, 50, 81]\n"
          ]
        }
      ]
    },
    {
      "cell_type": "markdown",
      "source": [
        "###Insertion sort  O($n^2$)"
      ],
      "metadata": {
        "id": "qtaDz5nOzj2w"
      }
    },
    {
      "cell_type": "code",
      "source": [
        "def insertion_sort(l):\n",
        "  n = len(l)\n",
        "  for i in range(n):\n",
        "    j = i\n",
        "    while j>0 and l[j]<l[j-1]:\n",
        "      (l[j],l[j-1])=(l[j-1],l[j])\n",
        "      j = j-1\n",
        "  return l\n",
        "print(insertion_sort(l))"
      ],
      "metadata": {
        "id": "SmDyNjSAzmcv",
        "colab": {
          "base_uri": "https://localhost:8080/"
        },
        "outputId": "9cc708ec-ef11-4116-a4ae-899897c4ca33"
      },
      "execution_count": null,
      "outputs": [
        {
          "output_type": "stream",
          "name": "stdout",
          "text": [
            "[9, 11, 12, 13, 15, 21, 25, 42, 50, 81]\n"
          ]
        }
      ]
    },
    {
      "cell_type": "markdown",
      "source": [
        "<h1> Merge Sort O(nlogn) </h1>\n",
        "\n",
        "run the merge code first then run the merge sort block\n",
        "\n"
      ],
      "metadata": {
        "id": "QBcQijaAD2RM"
      }
    },
    {
      "cell_type": "code",
      "source": [
        "def merge_sort(l):\n",
        "  n = len(l)\n",
        "  if n<=1:\n",
        "    return l\n",
        "  L = merge_sort(l[:n//2])\n",
        "  R = merge_sort(l[n//2:])\n",
        "  b = merge(L,R)\n",
        "  return b\n",
        "\n",
        "print(merge_sort(l))"
      ],
      "metadata": {
        "id": "RwYGl1wirLM0",
        "colab": {
          "base_uri": "https://localhost:8080/"
        },
        "outputId": "86e59560-472a-4799-88d7-73b8a3c70a3b"
      },
      "execution_count": null,
      "outputs": [
        {
          "output_type": "stream",
          "name": "stdout",
          "text": [
            "[9, 11, 12, 13, 15, 21, 25, 42, 50, 81]\n"
          ]
        }
      ]
    },
    {
      "cell_type": "markdown",
      "source": [
        "<h1> Merge Algorithm</h1>\n",
        "<h3>Run this algorithm first, then execute Merge sort Algorithm</h3>"
      ],
      "metadata": {
        "id": "Fbh8bglvuwuV"
      }
    },
    {
      "cell_type": "code",
      "source": [
        "def merge(a,b):\n",
        "  (n,m) = (len(a),len(b))\n",
        "  (c,j,k,i) = ([],0,0,0)\n",
        "  while k<m+n:\n",
        "  # here we will check if i=0 is equal to n, because if it is, then the list A, is empty and B still as emlemets,\n",
        "  # so we will copy remaning elements in c\n",
        "    if i == n:\n",
        "      c.extend(b[j:])\n",
        "    # here j = number of times b was added in the list c, and m contains the total length\n",
        "    # therefore   m-j will give the number of elements left in b\n",
        "      k = k+(m-j)\n",
        "    # nxt we do same with list a\n",
        "    elif j==m:\n",
        "      c.extend(a[i:])\n",
        "      k = k+(n-i)\n",
        "    elif a[i]<b[j]:\n",
        "      c.append(a[i])\n",
        "      k = k+1\n",
        "      i = i+1\n",
        "    else:\n",
        "      c.append(b[j])\n",
        "      k = k+1\n",
        "      j=j+1\n",
        "  return c"
      ],
      "metadata": {
        "id": "CQxqJnVxu5W_"
      },
      "execution_count": null,
      "outputs": []
    },
    {
      "cell_type": "markdown",
      "source": [
        "<h1> Quick Sort, O(nlogn) in most of the cases and, in Rare Case it may take  O($n^2$)</h1>"
      ],
      "metadata": {
        "id": "ZkcxSeXJbC_z"
      }
    },
    {
      "cell_type": "code",
      "source": [
        "# L = list, l= pivort , r = len(L)\n",
        "def quicksort(L,l,r):  # Sort L[l:r]\n",
        "  if (r - l < 1):\n",
        "    return (L)\n",
        "  (pivot,lower,upper) = (L[1],l+1,l+1)\n",
        "  for i in range(l+1,r):\n",
        "    if L[i] > pivot:  # Extend upper segment\n",
        "      upper = upper+1\n",
        "    else:  # Exchange L[i] with start of upper segment\n",
        "      (L[i], L[lower]) = (L[lower], L[i])\n",
        "      # Shift both segments\n",
        "      (lower,upper) = (lower+1,upper+1)\n",
        "  # Move pivot between lower and upper\n",
        "  (L[l],L[lower-1]) = (L[lower-1],L[l])\n",
        "  lower = lower-1\n",
        "  # Recursive calls\n",
        "  quicksort(L,l,lower)\n",
        "  quicksort(L,lower+1,upper)\n",
        "  return(L)\n",
        "print(quicksort(l,5,len(l)))"
      ],
      "metadata": {
        "colab": {
          "base_uri": "https://localhost:8080/"
        },
        "id": "SfB3H7-ZqmWO",
        "outputId": "03e69321-89b2-4e2d-e984-4aa429a41f88"
      },
      "execution_count": null,
      "outputs": [
        {
          "output_type": "stream",
          "name": "stdout",
          "text": [
            "[21, 12, 13, 42, 11, 9, 15, 81, 25, 50]\n"
          ]
        }
      ]
    },
    {
      "cell_type": "markdown",
      "source": [
        "<h1> Quick Sort"
      ],
      "metadata": {
        "id": "GFqL05TLSMZg"
      }
    },
    {
      "cell_type": "code",
      "source": [
        "#lower = 0 or any index required to statrt the loop, upper = len(list)\n",
        "def partition(L,lower,upper):\n",
        "  # we are selecting first element as a pivot\n",
        "  pivot = L[lower]\n",
        "  i = lower\n",
        "  for j in range(lower+1,upper+1):\n",
        "    if L[j] <= pivot:\n",
        "      i += 1\n",
        "      L[i],L[j] = L[j],L[i]\n",
        "  L[lower],L[i]= L[i],L[lower]\n",
        "  #returning the position of pivot\n",
        "  return i\n",
        "\n",
        "def quicksort(L,lower,upper):\n",
        "  if(lower < upper):\n",
        "    pivot_pos = partition(L,lower,upper);\n",
        "    # calling the quick sort on leftside part of pivot\n",
        "    quicksort(L,lower,pivot_pos-1)\n",
        "    # calling the quick sort on rightside part of pivot\n",
        "    quicksort(L,pivot_pos+1,upper)\n",
        "  return L\n",
        "\n",
        "print(quicksort(l,0,len(l)-1))"
      ],
      "metadata": {
        "id": "HdWIsNXXSM_0",
        "colab": {
          "base_uri": "https://localhost:8080/"
        },
        "outputId": "9689d092-1718-4bf1-fbac-81f7c57c20cd"
      },
      "execution_count": null,
      "outputs": [
        {
          "output_type": "stream",
          "name": "stdout",
          "text": [
            "[9, 11, 12, 13, 15, 21, 25, 42, 50, 81]\n"
          ]
        }
      ]
    },
    {
      "cell_type": "markdown",
      "source": [
        "<h1>Nodes in Python --1\n",
        "\n",
        "create a Node class"
      ],
      "metadata": {
        "id": "JULkQfrIC9q1"
      }
    },
    {
      "cell_type": "code",
      "source": [
        "class Node:\n",
        "  def __init__(self,v= None):\n",
        "    self.v = v\n",
        "    self.next = None\n",
        "    return\n",
        "  def isempty(self):\n",
        "    if self.v ==None:\n",
        "      return True\n",
        "    else:\n",
        "      return False\n",
        ""
      ],
      "metadata": {
        "id": "0fdsxVMWDCUN"
      },
      "execution_count": null,
      "outputs": []
    },
    {
      "cell_type": "code",
      "source": [
        "#check if node class is working or not\n",
        "\n",
        "l1 = Node()\n",
        "l2 = Node(5)\n",
        "l1.isempty(),l2.isempty()"
      ],
      "metadata": {
        "colab": {
          "base_uri": "https://localhost:8080/"
        },
        "id": "IajJ1nW8DoXt",
        "outputId": "d2515fae-05bf-4531-8517-33a18b815ef0"
      },
      "execution_count": null,
      "outputs": [
        {
          "output_type": "execute_result",
          "data": {
            "text/plain": [
              "(True, False)"
            ]
          },
          "metadata": {},
          "execution_count": 2
        }
      ]
    },
    {
      "cell_type": "markdown",
      "source": [
        "<h1> Nodes in Python--2\n",
        "\n",
        "append in the nodes"
      ],
      "metadata": {
        "id": "oR9TPGprFPDF"
      }
    },
    {
      "cell_type": "code",
      "source": [
        "class Node:\n",
        "  def __init__(self,v= None):\n",
        "    self.v = v\n",
        "    self.next = None\n",
        "    return\n",
        "  def isempty(self):\n",
        "    if self.v ==None:\n",
        "      return True\n",
        "    else:\n",
        "      return False\n",
        "  #THIS IS APPEND\n",
        "  # GAP LEFT FOR THE CODE TO BE MORE VISIBLE\n",
        "  #-------\n",
        "  #----\n",
        "  def append(self,v):\n",
        "    if self.isempty():\n",
        "      self.v = v\n",
        "    elif self.next==None:\n",
        "      self.next = Node(v)\n",
        "    else:\n",
        "      self.next.append(v)\n",
        "  #--------------APPEND----CODE---END--------------#"
      ],
      "metadata": {
        "id": "ei1p8knkFV74"
      },
      "execution_count": null,
      "outputs": []
    },
    {
      "cell_type": "code",
      "source": [
        "class queue:\n",
        "    def __init__(self):\n",
        "        self.v = []\n",
        "\n",
        "    def addq(self, s):\n",
        "        self.v.append(s)\n",
        "\n",
        "    def isempty(self):\n",
        "        if self.v == []:\n",
        "            return True\n",
        "        else:\n",
        "            return False\n",
        "\n",
        "    def delq(self):\n",
        "        vi = None\n",
        "        if self.isempty() == False:\n",
        "            vi = self.v[0]\n",
        "            self.v = self.v[1:]\n",
        "        return vi\n",
        "    def __str__(self):\n",
        "        return (str(self.v))\n",
        "\n",
        "\n",
        "def bfs(alist, p):\n",
        "    visited = {}\n",
        "    for i in alist.keys():\n",
        "        visited[i] = False\n",
        "    q = queue()\n",
        "    visited[p] = True\n",
        "    q.addq(p)\n",
        "\n",
        "    while q.isempty() == False:\n",
        "        j = q.delq()\n",
        "        for k in alist[j]:\n",
        "            visited[k] = True\n",
        "            q.addq(k)\n",
        "    return visited\n",
        "\n",
        "def components(alist):\n",
        "    component = {}\n",
        "    for i in alist.keys():\n",
        "        component[i]=-1\n",
        "    (compid,seen)  =  (0,0)\n",
        "    while seen<=(max(alist.keys())):\n",
        "        startid = min([i for i in alist.keys() if component[i]==-1])\n",
        "        visited = bfs(alist,startid)\n",
        "        for i in visited.keys():\n",
        "            if visited[i] == True:\n",
        "                seen = seen+1\n",
        "                component[i] = compid\n",
        "        compid = compid + 1\n",
        "    return component\n",
        "\n",
        "\n",
        "AList = {0: [1], 1: [2], 2: [0], 3: [4, 6], 4: [3, 7], 5: [3, 7], 6: [5], 7: [4, 8], 8: [5, 9], 9: [8]}\n",
        "print(components(AList))"
      ],
      "metadata": {
        "colab": {
          "base_uri": "https://localhost:8080/",
          "height": 346
        },
        "id": "_F4s6etrHmeV",
        "outputId": "ad8bd01f-04ea-4d47-e5ab-d1b6fa43cd4e"
      },
      "execution_count": null,
      "outputs": [
        {
          "output_type": "error",
          "ename": "KeyboardInterrupt",
          "evalue": "ignored",
          "traceback": [
            "\u001b[0;31m---------------------------------------------------------------------------\u001b[0m",
            "\u001b[0;31mKeyboardInterrupt\u001b[0m                         Traceback (most recent call last)",
            "\u001b[0;32m<ipython-input-2-071396afa9f9>\u001b[0m in \u001b[0;36m<module>\u001b[0;34m()\u001b[0m\n\u001b[1;32m     54\u001b[0m \u001b[0;34m\u001b[0m\u001b[0m\n\u001b[1;32m     55\u001b[0m \u001b[0mAList\u001b[0m \u001b[0;34m=\u001b[0m \u001b[0;34m{\u001b[0m\u001b[0;36m0\u001b[0m\u001b[0;34m:\u001b[0m \u001b[0;34m[\u001b[0m\u001b[0;36m1\u001b[0m\u001b[0;34m]\u001b[0m\u001b[0;34m,\u001b[0m \u001b[0;36m1\u001b[0m\u001b[0;34m:\u001b[0m \u001b[0;34m[\u001b[0m\u001b[0;36m2\u001b[0m\u001b[0;34m]\u001b[0m\u001b[0;34m,\u001b[0m \u001b[0;36m2\u001b[0m\u001b[0;34m:\u001b[0m \u001b[0;34m[\u001b[0m\u001b[0;36m0\u001b[0m\u001b[0;34m]\u001b[0m\u001b[0;34m,\u001b[0m \u001b[0;36m3\u001b[0m\u001b[0;34m:\u001b[0m \u001b[0;34m[\u001b[0m\u001b[0;36m4\u001b[0m\u001b[0;34m,\u001b[0m \u001b[0;36m6\u001b[0m\u001b[0;34m]\u001b[0m\u001b[0;34m,\u001b[0m \u001b[0;36m4\u001b[0m\u001b[0;34m:\u001b[0m \u001b[0;34m[\u001b[0m\u001b[0;36m3\u001b[0m\u001b[0;34m,\u001b[0m \u001b[0;36m7\u001b[0m\u001b[0;34m]\u001b[0m\u001b[0;34m,\u001b[0m \u001b[0;36m5\u001b[0m\u001b[0;34m:\u001b[0m \u001b[0;34m[\u001b[0m\u001b[0;36m3\u001b[0m\u001b[0;34m,\u001b[0m \u001b[0;36m7\u001b[0m\u001b[0;34m]\u001b[0m\u001b[0;34m,\u001b[0m \u001b[0;36m6\u001b[0m\u001b[0;34m:\u001b[0m \u001b[0;34m[\u001b[0m\u001b[0;36m5\u001b[0m\u001b[0;34m]\u001b[0m\u001b[0;34m,\u001b[0m \u001b[0;36m7\u001b[0m\u001b[0;34m:\u001b[0m \u001b[0;34m[\u001b[0m\u001b[0;36m4\u001b[0m\u001b[0;34m,\u001b[0m \u001b[0;36m8\u001b[0m\u001b[0;34m]\u001b[0m\u001b[0;34m,\u001b[0m \u001b[0;36m8\u001b[0m\u001b[0;34m:\u001b[0m \u001b[0;34m[\u001b[0m\u001b[0;36m5\u001b[0m\u001b[0;34m,\u001b[0m \u001b[0;36m9\u001b[0m\u001b[0;34m]\u001b[0m\u001b[0;34m,\u001b[0m \u001b[0;36m9\u001b[0m\u001b[0;34m:\u001b[0m \u001b[0;34m[\u001b[0m\u001b[0;36m8\u001b[0m\u001b[0;34m]\u001b[0m\u001b[0;34m}\u001b[0m\u001b[0;34m\u001b[0m\u001b[0;34m\u001b[0m\u001b[0m\n\u001b[0;32m---> 56\u001b[0;31m \u001b[0mprint\u001b[0m\u001b[0;34m(\u001b[0m\u001b[0mcomponents\u001b[0m\u001b[0;34m(\u001b[0m\u001b[0mAList\u001b[0m\u001b[0;34m)\u001b[0m\u001b[0;34m)\u001b[0m\u001b[0;34m\u001b[0m\u001b[0;34m\u001b[0m\u001b[0m\n\u001b[0m",
            "\u001b[0;32m<ipython-input-2-071396afa9f9>\u001b[0m in \u001b[0;36mcomponents\u001b[0;34m(alist)\u001b[0m\n\u001b[1;32m     44\u001b[0m     \u001b[0;32mwhile\u001b[0m \u001b[0mseen\u001b[0m\u001b[0;34m<=\u001b[0m\u001b[0;34m(\u001b[0m\u001b[0mmax\u001b[0m\u001b[0;34m(\u001b[0m\u001b[0malist\u001b[0m\u001b[0;34m.\u001b[0m\u001b[0mkeys\u001b[0m\u001b[0;34m(\u001b[0m\u001b[0;34m)\u001b[0m\u001b[0;34m)\u001b[0m\u001b[0;34m)\u001b[0m\u001b[0;34m:\u001b[0m\u001b[0;34m\u001b[0m\u001b[0;34m\u001b[0m\u001b[0m\n\u001b[1;32m     45\u001b[0m         \u001b[0mstartid\u001b[0m \u001b[0;34m=\u001b[0m \u001b[0mmin\u001b[0m\u001b[0;34m(\u001b[0m\u001b[0;34m[\u001b[0m\u001b[0mi\u001b[0m \u001b[0;32mfor\u001b[0m \u001b[0mi\u001b[0m \u001b[0;32min\u001b[0m \u001b[0malist\u001b[0m\u001b[0;34m.\u001b[0m\u001b[0mkeys\u001b[0m\u001b[0;34m(\u001b[0m\u001b[0;34m)\u001b[0m \u001b[0;32mif\u001b[0m \u001b[0mcomponent\u001b[0m\u001b[0;34m[\u001b[0m\u001b[0mi\u001b[0m\u001b[0;34m]\u001b[0m\u001b[0;34m==\u001b[0m\u001b[0;34m-\u001b[0m\u001b[0;36m1\u001b[0m\u001b[0;34m]\u001b[0m\u001b[0;34m)\u001b[0m\u001b[0;34m\u001b[0m\u001b[0;34m\u001b[0m\u001b[0m\n\u001b[0;32m---> 46\u001b[0;31m         \u001b[0mvisited\u001b[0m \u001b[0;34m=\u001b[0m \u001b[0mbfs\u001b[0m\u001b[0;34m(\u001b[0m\u001b[0malist\u001b[0m\u001b[0;34m,\u001b[0m\u001b[0mstartid\u001b[0m\u001b[0;34m)\u001b[0m\u001b[0;34m\u001b[0m\u001b[0;34m\u001b[0m\u001b[0m\n\u001b[0m\u001b[1;32m     47\u001b[0m         \u001b[0;32mfor\u001b[0m \u001b[0mi\u001b[0m \u001b[0;32min\u001b[0m \u001b[0mvisited\u001b[0m\u001b[0;34m.\u001b[0m\u001b[0mkeys\u001b[0m\u001b[0;34m(\u001b[0m\u001b[0;34m)\u001b[0m\u001b[0;34m:\u001b[0m\u001b[0;34m\u001b[0m\u001b[0;34m\u001b[0m\u001b[0m\n\u001b[1;32m     48\u001b[0m             \u001b[0;32mif\u001b[0m \u001b[0mvisited\u001b[0m\u001b[0;34m[\u001b[0m\u001b[0mi\u001b[0m\u001b[0;34m]\u001b[0m \u001b[0;34m==\u001b[0m \u001b[0;32mTrue\u001b[0m\u001b[0;34m:\u001b[0m\u001b[0;34m\u001b[0m\u001b[0;34m\u001b[0m\u001b[0m\n",
            "\u001b[0;32m<ipython-input-2-071396afa9f9>\u001b[0m in \u001b[0;36mbfs\u001b[0;34m(alist, p)\u001b[0m\n\u001b[1;32m     30\u001b[0m     \u001b[0mq\u001b[0m\u001b[0;34m.\u001b[0m\u001b[0maddq\u001b[0m\u001b[0;34m(\u001b[0m\u001b[0mp\u001b[0m\u001b[0;34m)\u001b[0m\u001b[0;34m\u001b[0m\u001b[0;34m\u001b[0m\u001b[0m\n\u001b[1;32m     31\u001b[0m \u001b[0;34m\u001b[0m\u001b[0m\n\u001b[0;32m---> 32\u001b[0;31m     \u001b[0;32mwhile\u001b[0m \u001b[0mq\u001b[0m\u001b[0;34m.\u001b[0m\u001b[0misempty\u001b[0m\u001b[0;34m(\u001b[0m\u001b[0;34m)\u001b[0m \u001b[0;34m==\u001b[0m \u001b[0;32mFalse\u001b[0m\u001b[0;34m:\u001b[0m\u001b[0;34m\u001b[0m\u001b[0;34m\u001b[0m\u001b[0m\n\u001b[0m\u001b[1;32m     33\u001b[0m         \u001b[0mj\u001b[0m \u001b[0;34m=\u001b[0m \u001b[0mq\u001b[0m\u001b[0;34m.\u001b[0m\u001b[0mdelq\u001b[0m\u001b[0;34m(\u001b[0m\u001b[0;34m)\u001b[0m\u001b[0;34m\u001b[0m\u001b[0;34m\u001b[0m\u001b[0m\n\u001b[1;32m     34\u001b[0m         \u001b[0;32mfor\u001b[0m \u001b[0mk\u001b[0m \u001b[0;32min\u001b[0m \u001b[0malist\u001b[0m\u001b[0;34m[\u001b[0m\u001b[0mj\u001b[0m\u001b[0;34m]\u001b[0m\u001b[0;34m:\u001b[0m\u001b[0;34m\u001b[0m\u001b[0;34m\u001b[0m\u001b[0m\n",
            "\u001b[0;32m<ipython-input-2-071396afa9f9>\u001b[0m in \u001b[0;36misempty\u001b[0;34m(self)\u001b[0m\n\u001b[1;32m      7\u001b[0m \u001b[0;34m\u001b[0m\u001b[0m\n\u001b[1;32m      8\u001b[0m     \u001b[0;32mdef\u001b[0m \u001b[0misempty\u001b[0m\u001b[0;34m(\u001b[0m\u001b[0mself\u001b[0m\u001b[0;34m)\u001b[0m\u001b[0;34m:\u001b[0m\u001b[0;34m\u001b[0m\u001b[0;34m\u001b[0m\u001b[0m\n\u001b[0;32m----> 9\u001b[0;31m         \u001b[0;32mif\u001b[0m \u001b[0mself\u001b[0m\u001b[0;34m.\u001b[0m\u001b[0mv\u001b[0m \u001b[0;34m==\u001b[0m \u001b[0;34m[\u001b[0m\u001b[0;34m]\u001b[0m\u001b[0;34m:\u001b[0m\u001b[0;34m\u001b[0m\u001b[0;34m\u001b[0m\u001b[0m\n\u001b[0m\u001b[1;32m     10\u001b[0m             \u001b[0;32mreturn\u001b[0m \u001b[0;32mTrue\u001b[0m\u001b[0;34m\u001b[0m\u001b[0;34m\u001b[0m\u001b[0m\n\u001b[1;32m     11\u001b[0m         \u001b[0;32melse\u001b[0m\u001b[0;34m:\u001b[0m\u001b[0;34m\u001b[0m\u001b[0;34m\u001b[0m\u001b[0m\n",
            "\u001b[0;31mKeyboardInterrupt\u001b[0m: "
          ]
        }
      ]
    },
    {
      "cell_type": "code",
      "source": [
        "class Queue:\n",
        "    def __init__(self):\n",
        "        self.queue = []\n",
        "    def addq(self,v):\n",
        "        self.queue.append(v)\n",
        "    def isempty(self):\n",
        "        return(self.queue == [])\n",
        "    def delq(self):\n",
        "        v = None\n",
        "        if not self.isempty():\n",
        "            v = self.queue[0]\n",
        "            self.queue = self.queue[1:]\n",
        "        return(v)\n",
        "    def __str__(self):\n",
        "        return(str(self.queue))\n",
        "\n",
        "def BFSList(AList,v):\n",
        "    visited = {}\n",
        "    for i in AList.keys():\n",
        "        visited[i] = False\n",
        "    q = Queue()\n",
        "\n",
        "    visited[v] = True\n",
        "    q.addq(v)\n",
        "\n",
        "    while(not q.isempty()):\n",
        "        j = q.delq()\n",
        "        for k in AList[j]:\n",
        "            if (not visited[k]):\n",
        "                visited[k] = True\n",
        "                q.addq(k)\n",
        "    return(visited)\n",
        "def Components(AList):\n",
        "    component = {}\n",
        "    for i in AList.keys():\n",
        "        component[i] = -1\n",
        "    (compid,seen) = (0,0)\n",
        "    while seen <= max(AList.keys()):\n",
        "        startv = min([i for i in AList.keys() if component[i] == -1])\n",
        "        visited = BFSList(AList,startv)\n",
        "        for i in visited.keys():\n",
        "            if visited[i]:\n",
        "                seen = seen + 1\n",
        "                component[i] = compid\n",
        "        compid = compid + 1\n",
        "    return(component)\n",
        "AList = {0: [1], 1: [2], 2: [0], 3: [4, 6], 4: [3, 7], 5: [3, 7], 6: [5], 7: [4, 8], 8: [5, 9], 9: [8]}\n",
        "print(Components(AList))"
      ],
      "metadata": {
        "colab": {
          "base_uri": "https://localhost:8080/"
        },
        "id": "-z1iPNbZIY01",
        "outputId": "59528b9e-7026-4cca-e7cd-aede98f53b43"
      },
      "execution_count": null,
      "outputs": [
        {
          "output_type": "stream",
          "name": "stdout",
          "text": [
            "{0: 0, 1: 0, 2: 0, 3: 1, 4: 1, 5: 1, 6: 1, 7: 1, 8: 1, 9: 1}\n"
          ]
        }
      ]
    },
    {
      "cell_type": "code",
      "source": [
        "dedges = [(0,1,10),(0,2,80),(1,2,6),(1,4,20),(2,3,70),(4,5,50),(4,6,5),(5,6,10)]\n",
        "size = 7\n",
        "import numpy as np\n",
        "W = np.zeros(shape=(size,size,2))\n",
        "for (i,j,w) in dedges:\n",
        "    W[i,j,0] = 1\n",
        "    W[i,j,1] = w\n",
        "print(W)\n",
        "\n"
      ],
      "metadata": {
        "colab": {
          "base_uri": "https://localhost:8080/"
        },
        "id": "6VcGa-Y0FO8t",
        "outputId": "8f458f59-a41b-41fb-ba7b-08944ed130d1"
      },
      "execution_count": null,
      "outputs": [
        {
          "output_type": "stream",
          "name": "stdout",
          "text": [
            "[[[ 0.  0.]\n",
            "  [ 1. 10.]\n",
            "  [ 1. 80.]\n",
            "  [ 0.  0.]\n",
            "  [ 0.  0.]\n",
            "  [ 0.  0.]\n",
            "  [ 0.  0.]]\n",
            "\n",
            " [[ 0.  0.]\n",
            "  [ 0.  0.]\n",
            "  [ 1.  6.]\n",
            "  [ 0.  0.]\n",
            "  [ 1. 20.]\n",
            "  [ 0.  0.]\n",
            "  [ 0.  0.]]\n",
            "\n",
            " [[ 0.  0.]\n",
            "  [ 0.  0.]\n",
            "  [ 0.  0.]\n",
            "  [ 1. 70.]\n",
            "  [ 0.  0.]\n",
            "  [ 0.  0.]\n",
            "  [ 0.  0.]]\n",
            "\n",
            " [[ 0.  0.]\n",
            "  [ 0.  0.]\n",
            "  [ 0.  0.]\n",
            "  [ 0.  0.]\n",
            "  [ 0.  0.]\n",
            "  [ 0.  0.]\n",
            "  [ 0.  0.]]\n",
            "\n",
            " [[ 0.  0.]\n",
            "  [ 0.  0.]\n",
            "  [ 0.  0.]\n",
            "  [ 0.  0.]\n",
            "  [ 0.  0.]\n",
            "  [ 1. 50.]\n",
            "  [ 1.  5.]]\n",
            "\n",
            " [[ 0.  0.]\n",
            "  [ 0.  0.]\n",
            "  [ 0.  0.]\n",
            "  [ 0.  0.]\n",
            "  [ 0.  0.]\n",
            "  [ 0.  0.]\n",
            "  [ 1. 10.]]\n",
            "\n",
            " [[ 0.  0.]\n",
            "  [ 0.  0.]\n",
            "  [ 0.  0.]\n",
            "  [ 0.  0.]\n",
            "  [ 0.  0.]\n",
            "  [ 0.  0.]\n",
            "  [ 0.  0.]]]\n"
          ]
        }
      ]
    },
    {
      "cell_type": "code",
      "source": [
        "w = np.zeros(shape=(3,3,3))\n",
        "print(w)"
      ],
      "metadata": {
        "colab": {
          "base_uri": "https://localhost:8080/"
        },
        "id": "oXhLrdd8FcUQ",
        "outputId": "387b2ce9-1f33-4d9b-f4ed-8565f3e75ace"
      },
      "execution_count": null,
      "outputs": [
        {
          "output_type": "stream",
          "name": "stdout",
          "text": [
            "[[[0. 0. 0.]\n",
            "  [0. 0. 0.]\n",
            "  [0. 0. 0.]]\n",
            "\n",
            " [[0. 0. 0.]\n",
            "  [0. 0. 0.]\n",
            "  [0. 0. 0.]]\n",
            "\n",
            " [[0. 0. 0.]\n",
            "  [0. 0. 0.]\n",
            "  [0. 0. 0.]]]\n"
          ]
        }
      ]
    },
    {
      "cell_type": "code",
      "source": [
        "list1 = [[[1,2],[3,4],[5,6]],[[7,8],[9,10]]]\n",
        "n= len(list1)\n",
        "for i in list1:\n",
        "  n = len(i)\n",
        "  for j in range(n):\n",
        "    print(i[j][1])\n"
      ],
      "metadata": {
        "colab": {
          "base_uri": "https://localhost:8080/"
        },
        "id": "UjHiAwItHnXq",
        "outputId": "db73fc76-23d8-4801-f1c8-63e0a55c8a7d"
      },
      "execution_count": null,
      "outputs": [
        {
          "output_type": "stream",
          "name": "stdout",
          "text": [
            "2\n",
            "4\n",
            "6\n",
            "8\n",
            "10\n"
          ]
        }
      ]
    }
  ],
  "metadata": {
    "colab": {
      "provenance": []
    },
    "kernelspec": {
      "display_name": "Python 3",
      "name": "python3"
    },
    "language_info": {
      "name": "python"
    }
  },
  "nbformat": 4,
  "nbformat_minor": 0
}