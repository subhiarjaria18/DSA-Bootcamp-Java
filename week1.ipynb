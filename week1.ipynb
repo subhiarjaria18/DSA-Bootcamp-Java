{
  "nbformat": 4,
  "nbformat_minor": 0,
  "metadata": {
    "colab": {
      "provenance": []
    },
    "kernelspec": {
      "name": "python3",
      "display_name": "Python 3"
    },
    "language_info": {
      "name": "python"
    }
  },
  "cells": [
    {
      "cell_type": "markdown",
      "source": [
        "**Welcome to your first assignment of Summer Analytics 2023! We hope you are excited to implement and test everything you have learnt up until now.<a href = \"https://drive.google.com/file/d/1U73P58VAc4EXM98Or9feKnVx9I9FOP_L/view?usp=sharing\"> The dataset</a> which you'll use includes information about Movies.**"
      ],
      "metadata": {
        "id": "7t7O3hPJQQ1h"
      }
    },
    {
      "cell_type": "markdown",
      "source": [
        " We've got an interesting set of questions for you to get a basic understanding of pandas and data visualization libraries. GOOD LUCK!\n",
        "\n",
        "Let's get started with importing numpy, pandas, seaborn and matplotlib!"
      ],
      "metadata": {
        "id": "8yDZv8F_QiqH"
      }
    },
    {
      "cell_type": "markdown",
      "source": [
        "Note - matplotlib should be imported with the command :\n",
        "\n",
        "**import matplotlib.pyplot as plt**"
      ],
      "metadata": {
        "id": "p-nMuCNQQxx_"
      }
    },
    {
      "cell_type": "markdown",
      "source": [
        "Start by importing all important libraries"
      ],
      "metadata": {
        "id": "nz8BTfnCRC8v"
      }
    },
    {
      "cell_type": "code",
      "execution_count": null,
      "metadata": {
        "id": "rKkyeMJiO0up"
      },
      "outputs": [],
      "source": [
        "import numpy as np\n",
        "import pandas as pd\n",
        "import seaborn as sns\n",
        "import matplotlib.pyplot as plt\n"
      ]
    },
    {
      "cell_type": "markdown",
      "source": [
        "Read the csv file and assign it to a variable ."
      ],
      "metadata": {
        "id": "2N8LabERRONN"
      }
    },
    {
      "cell_type": "code",
      "source": [
        "# Read the CSV file\n",
        "data = pd.read_csv(\"https://drive.google.com/file/d/1U73P58VAc4EXM98Or9feKnVx9I9FOP_L/view\")\n",
        "data=data.T"
      ],
      "metadata": {
        "id": "vnjh3IZmRO72"
      },
      "execution_count": null,
      "outputs": []
    },
    {
      "cell_type": "markdown",
      "source": [
        "Display shape of dataframe"
      ],
      "metadata": {
        "id": "EifdwomBRPxy"
      }
    },
    {
      "cell_type": "code",
      "source": [
        "# Display the shape of the DataFrame\n",
        "\n",
        "shape = data.shape\n",
        "shape\n",
        "\n"
      ],
      "metadata": {
        "id": "lM8S9INfRSt3",
        "colab": {
          "base_uri": "https://localhost:8080/"
        },
        "outputId": "46c36adf-bc3d-466c-f756-57ffc54c0de1"
      },
      "execution_count": null,
      "outputs": [
        {
          "output_type": "execute_result",
          "data": {
            "text/plain": [
              "(834, 119)"
            ]
          },
          "metadata": {},
          "execution_count": 48
        }
      ]
    },
    {
      "cell_type": "markdown",
      "source": [
        "Print all columns of dataframe"
      ],
      "metadata": {
        "id": "Q9xTIt54RVTY"
      }
    },
    {
      "cell_type": "code",
      "source": [
        "# Print all columns\n",
        "import pandas as pd\n",
        "\n",
        "# Assuming you have already read the CSV file into the 'data' DataFrame\n",
        "columns = data.columns\n",
        "print(\"Columns of the DataFrame:\")\n",
        "for column in columns:\n",
        "    print(column)\n"
      ],
      "metadata": {
        "id": "kn3VPvn6RV4_",
        "colab": {
          "base_uri": "https://localhost:8080/"
        },
        "outputId": "fa50e92d-101b-4402-ebb8-38fd7638b29d"
      },
      "execution_count": null,
      "outputs": [
        {
          "output_type": "stream",
          "name": "stdout",
          "text": [
            "Columns of the DataFrame:\n",
            "0\n",
            "1\n",
            "2\n",
            "3\n",
            "4\n",
            "5\n",
            "6\n",
            "7\n",
            "8\n",
            "9\n",
            "10\n",
            "11\n",
            "12\n",
            "13\n",
            "14\n",
            "15\n",
            "16\n",
            "17\n",
            "18\n",
            "19\n",
            "20\n",
            "21\n",
            "22\n",
            "23\n",
            "24\n",
            "25\n",
            "26\n",
            "27\n",
            "28\n",
            "29\n",
            "30\n",
            "31\n",
            "32\n",
            "33\n",
            "34\n",
            "35\n",
            "36\n",
            "37\n",
            "38\n",
            "39\n",
            "40\n",
            "41\n",
            "42\n",
            "43\n",
            "44\n",
            "45\n",
            "46\n",
            "47\n",
            "48\n",
            "49\n",
            "50\n",
            "51\n",
            "52\n",
            "53\n",
            "54\n",
            "55\n",
            "56\n",
            "57\n",
            "58\n",
            "59\n",
            "60\n",
            "61\n",
            "62\n",
            "63\n",
            "64\n",
            "65\n",
            "66\n",
            "67\n",
            "68\n",
            "69\n",
            "70\n",
            "71\n",
            "72\n",
            "73\n",
            "74\n",
            "75\n",
            "76\n",
            "77\n",
            "78\n",
            "79\n",
            "80\n",
            "81\n",
            "82\n",
            "83\n",
            "84\n",
            "85\n",
            "86\n",
            "87\n",
            "88\n",
            "89\n",
            "90\n",
            "91\n",
            "92\n",
            "93\n",
            "94\n",
            "95\n",
            "96\n",
            "97\n",
            "98\n",
            "99\n",
            "100\n",
            "101\n",
            "102\n",
            "103\n",
            "104\n",
            "105\n",
            "106\n",
            "107\n",
            "108\n",
            "109\n",
            "110\n",
            "111\n",
            "112\n",
            "113\n",
            "114\n",
            "115\n",
            "116\n",
            "117\n",
            "118\n"
          ]
        }
      ]
    },
    {
      "cell_type": "markdown",
      "source": [
        "Remove the column 'Poster_Link' and update the dataframe."
      ],
      "metadata": {
        "id": "3jtm084KRleN"
      }
    },
    {
      "cell_type": "code",
      "source": [
        "# Remove the 'Poster_Link' column\n",
        "import pandas as pd\n",
        "\n",
        "# Assuming you have already read the CSV file into the 'data' DataFrame\n",
        "print(\"Columns of the DataFrame:\")\n",
        "print(data.columns)\n",
        "\n",
        "\n",
        "\n"
      ],
      "metadata": {
        "id": "zYIz3q0ARnuU",
        "colab": {
          "base_uri": "https://localhost:8080/"
        },
        "outputId": "eebbd0eb-1904-4e9c-cd0c-1261c383bedf"
      },
      "execution_count": null,
      "outputs": [
        {
          "output_type": "stream",
          "name": "stdout",
          "text": [
            "Columns of the DataFrame:\n",
            "RangeIndex(start=0, stop=119, step=1)\n"
          ]
        }
      ]
    },
    {
      "cell_type": "markdown",
      "source": [
        "Set the 'Series_Title' column as the index of dataframe"
      ],
      "metadata": {
        "id": "ss6QYp4YRrfY"
      }
    },
    {
      "cell_type": "code",
      "source": [
        "data = data.set_index('Series_Title')\n"
      ],
      "metadata": {
        "id": "iXNaEmTkR3tB"
      },
      "execution_count": null,
      "outputs": []
    },
    {
      "cell_type": "markdown",
      "source": [
        "Print a list of all the unique Genre"
      ],
      "metadata": {
        "id": "f6cj49w0R4PS"
      }
    },
    {
      "cell_type": "code",
      "source": [
        "unique_genres = data['Genre'].unique()\n",
        "\n",
        "print(\"Unique genres:\")\n",
        "for genre in unique_genres:\n",
        "    print(genre)\n"
      ],
      "metadata": {
        "id": "CO4kbBsySVjr"
      },
      "execution_count": null,
      "outputs": []
    },
    {
      "cell_type": "markdown",
      "source": [
        "1. What is the Number of Directors in the given dataset ?"
      ],
      "metadata": {
        "id": "Dfj_ZoVBS97W"
      }
    },
    {
      "cell_type": "code",
      "source": [
        "import pandas as pd\n",
        "\n",
        "# Assuming you have already read the CSV file into the 'data' DataFrame\n",
        "number_of_directors = data['Director'].nunique()\n",
        "\n",
        "print(\"Number of directors:\", number_of_directors)\n"
      ],
      "metadata": {
        "id": "92f8NLciTIU_"
      },
      "execution_count": null,
      "outputs": []
    },
    {
      "cell_type": "markdown",
      "source": [
        "2. What is the mean, median and standard deviation of IMDB rating in the dataset ?"
      ],
      "metadata": {
        "id": "5UnvBViyTOc9"
      }
    },
    {
      "cell_type": "code",
      "source": [
        "import pandas as pd\n",
        "\n",
        "# Assuming you have already read the CSV file into the 'data' DataFrame\n",
        "imdb_rating_mean = data['IMDB_Rating'].mean()\n",
        "imdb_rating_median = data['IMDB_Rating'].median()\n",
        "imdb_rating_std = data['IMDB_Rating'].std()\n",
        "\n",
        "print(\"Mean IMDb rating:\", imdb_rating_mean)\n",
        "print(\"Median IMDb rating:\", imdb_rating_median)\n",
        "print(\"Standard deviation of IMDb rating:\", imdb_rating_std)\n"
      ],
      "metadata": {
        "id": "sOL7O83LTg30"
      },
      "execution_count": null,
      "outputs": []
    },
    {
      "cell_type": "markdown",
      "source": [
        "3. Which director has directed the most number of movies?"
      ],
      "metadata": {
        "id": "d_k1zoajTxyx"
      }
    },
    {
      "cell_type": "code",
      "source": [
        "director_counts = data['Director'].value_counts()\n",
        "\n",
        "most_common_director = director_counts.idxmax()\n",
        "most_common_director_count = director_counts.max()\n",
        "\n",
        "print(\"Director with the most number of movies:\", most_common_director)\n",
        "print(\"Number of movies directed by the most common director:\", most_common_director_count)\n"
      ],
      "metadata": {
        "id": "-gvnNqSsT88L"
      },
      "execution_count": null,
      "outputs": []
    },
    {
      "cell_type": "markdown",
      "source": [
        "4. Name the Movie which has the highest Runtime ?"
      ],
      "metadata": {
        "id": "zGHeeFZnT-yx"
      }
    },
    {
      "cell_type": "code",
      "source": [
        "max_runtime_index = data['Runtime'].idxmax()\n",
        "movie_highest_runtime = data.loc[max_runtime_index, 'Series_Title']\n",
        "\n",
        "print(\"Movie with the highest runtime:\", movie_highest_runtime)"
      ],
      "metadata": {
        "id": "-1BAOzXoUKL1"
      },
      "execution_count": null,
      "outputs": []
    },
    {
      "cell_type": "markdown",
      "source": [
        "5. How many movies are released after year 2000 and have IMDB rating > 8.5 ?"
      ],
      "metadata": {
        "id": "ast-zD1gULUS"
      }
    },
    {
      "cell_type": "code",
      "source": [
        "import pandas as pd\n",
        "\n",
        "# Assuming you have already read the CSV file into the 'data' DataFrame\n",
        "movies_filtered = data[(data['Year'] > 2000) & (data['IMDB_Rating'] > 8.5)]\n",
        "num_movies_filtered = len(movies_filtered)\n",
        "\n",
        "print(\"Number of movies released after 2000 with IMDb rating > 8.5:\", num_movies_filtered)\n"
      ],
      "metadata": {
        "id": "2SA7L3G-VLom"
      },
      "execution_count": null,
      "outputs": []
    },
    {
      "cell_type": "code",
      "source": [],
      "metadata": {
        "id": "aBbuK0GhUZtK"
      },
      "execution_count": null,
      "outputs": []
    },
    {
      "cell_type": "markdown",
      "source": [
        "Using seaborn make different types of plots, observe the trend and answer the questions.\n",
        "6. Make a countplot of Movies directed by top 5 directors."
      ],
      "metadata": {
        "id": "jYq9gv3aUl1u"
      }
    },
    {
      "cell_type": "code",
      "source": [
        "# Get the top 5 directors by count of movies\n",
        "top_directors = data['Director'].value_counts().head(5).index.tolist()\n",
        "\n",
        "# Filter the data for movies directed by the top 5 directors\n",
        "filtered_data = data[data['Director'].isin(top_directors)]\n",
        "\n",
        "# Create the countplot\n",
        "plt.figure(figsize=(10, 6))\n",
        "sns.countplot(data=filtered_data, x='Director', order=top_directors)\n",
        "plt.title('Count of Movies Directed by Top 5 Directors')\n",
        "plt.xlabel('Director')\n",
        "plt.ylabel('Count')\n",
        "plt.xticks(rotation=45)\n",
        "plt.show()"
      ],
      "metadata": {
        "id": "WOYH5X29ViUR"
      },
      "execution_count": null,
      "outputs": []
    },
    {
      "cell_type": "markdown",
      "source": [
        "7. Make a plot to analyze distribution of IMDB rating?"
      ],
      "metadata": {
        "id": "caUYiLeHVjIf"
      }
    },
    {
      "cell_type": "code",
      "source": [
        "plt.figure(figsize=(10, 6))\n",
        "sns.histplot(data=data, x='IMDB_Rating', kde=True)\n",
        "plt.title('Distribution of IMDb Ratings')\n",
        "plt.xlabel('IMDb Rating')\n",
        "plt.ylabel('Frequency')\n",
        "plt.show()"
      ],
      "metadata": {
        "id": "c12iHvlLV9PR"
      },
      "execution_count": null,
      "outputs": []
    },
    {
      "cell_type": "markdown",
      "source": [
        "8. What type of Genre has the highest IMDB rating?"
      ],
      "metadata": {
        "id": "dXCoPuYlWISU"
      }
    },
    {
      "cell_type": "code",
      "source": [
        "import pandas as pd\n",
        "\n",
        "# Assuming you have already read the CSV file into the 'data' DataFrame\n",
        "genre_ratings = data.groupby('Genre')['IMDB_Rating'].mean()\n",
        "highest_rating_genre = genre_ratings.idxmax()\n",
        "\n",
        "print(\"Genre with the highest IMDb rating:\", highest_rating_genre)\n"
      ],
      "metadata": {
        "id": "0r9cKE7fWjBU"
      },
      "execution_count": null,
      "outputs": []
    },
    {
      "cell_type": "markdown",
      "source": [
        "9. Name the top 5 movies that have earned highest Meta score."
      ],
      "metadata": {
        "id": "Ff2urhAhWrHO"
      }
    },
    {
      "cell_type": "code",
      "source": [
        "top_movies_meta_score = data.nlargest(5, 'Meta_score')[['Series_Title', 'Meta_score']]\n",
        "\n",
        "print(\"Top 5 movies with the highest Meta score:\")\n",
        "print(top_movies_meta_score)\n"
      ],
      "metadata": {
        "id": "lta342_iWxLd"
      },
      "execution_count": null,
      "outputs": []
    },
    {
      "cell_type": "markdown",
      "source": [
        "10. Of which Genre movie has the highest Runtime?"
      ],
      "metadata": {
        "id": "FPmZIOiwW5Jo"
      }
    },
    {
      "cell_type": "code",
      "source": [
        "genre_highest_runtime = data.groupby('Genre')['Runtime'].max().idxmax()\n",
        "\n",
        "print(\"Genre with the highest runtime:\", genre_highest_runtime)\n"
      ],
      "metadata": {
        "id": "R5a1FemoXJuo"
      },
      "execution_count": null,
      "outputs": []
    },
    {
      "cell_type": "markdown",
      "source": [
        "**Using the knowledge about Plotly that you have  try making plots and analyse the data .Whenever you come across an interesting analysis please show the corresponding plot(using Plotly) and comment down your analysis for the same**"
      ],
      "metadata": {
        "id": "B_NatnajpeBE"
      }
    },
    {
      "cell_type": "code",
      "source": [],
      "metadata": {
        "id": "eGoTOAWvpfIu"
      },
      "execution_count": null,
      "outputs": []
    }
  ]
}